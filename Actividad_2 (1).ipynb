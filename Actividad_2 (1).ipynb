{
  "nbformat": 4,
  "nbformat_minor": 0,
  "metadata": {
    "colab": {
      "provenance": []
    },
    "kernelspec": {
      "name": "python3",
      "display_name": "Python 3"
    },
    "language_info": {
      "name": "python"
    }
  },
  "cells": [
    {
      "cell_type": "markdown",
      "source": [
        "Se entrena un modelo SVM con el dataset Iris, se calcula su precisión y guarda el modelo y un archivo con información sobre él."
      ],
      "metadata": {
        "id": "34PZF4a8wKbg"
      }
    },
    {
      "cell_type": "code",
      "execution_count": null,
      "metadata": {
        "colab": {
          "base_uri": "https://localhost:8080/"
        },
        "id": "zv-SkiAXK5WY",
        "outputId": "bb8ef322-99d9-4e4c-bddb-7f0a057a889f"
      },
      "outputs": [
        {
          "output_type": "stream",
          "name": "stdout",
          "text": [
            "scikit-learn version: 1.6.1\n",
            "Python version: 3.12.11\n",
            "Accuracy: 1.0\n",
            "Artefacto guardado en: /content/artifacts/model.pkl\n",
            "Manifest guardado en: /content/artifacts/model_card.json\n"
          ]
        }
      ],
      "source": [
        "from sklearn.datasets import load_iris\n",
        "from sklearn.model_selection import train_test_split\n",
        "from sklearn.svm import SVC\n",
        "from sklearn.metrics import accuracy_score\n",
        "import numpy as np\n",
        "import pandas as pd\n",
        "import json\n",
        "import os\n",
        "import joblib\n",
        "import time\n",
        "import platform\n",
        "from pathlib import Path\n",
        "import sklearn\n",
        "\n",
        "# Paths\n",
        "ARTIFACTS_DIR = Path(\"artifacts\")\n",
        "ARTIFACTS_DIR.mkdir(exist_ok=True)\n",
        "\n",
        "print(\"scikit-learn version:\", sklearn.__version__)\n",
        "print(\"Python version:\", platform.python_version())\n",
        "\n",
        "# Cargar dataset\n",
        "iris = load_iris()\n",
        "X = pd.DataFrame(iris.data, columns=iris.feature_names)  # Convertir a DataFrame\n",
        "y = pd.Series(iris.target)\n",
        "\n",
        "# Dividir en train/test\n",
        "X_train, X_test, y_train, y_test = train_test_split(\n",
        "    X, y, test_size=0.2, random_state=42\n",
        ")\n",
        "\n",
        "# Modelo SVM con kernel RBF\n",
        "model = SVC(kernel='rbf', gamma='scale', C=1.0, probability=True)\n",
        "\n",
        "# Entrenar\n",
        "model.fit(X_train, y_train)\n",
        "\n",
        "# Predecir\n",
        "y_pred = model.predict(X_test)\n",
        "\n",
        "# Precisión\n",
        "accuracy = accuracy_score(y_test, y_pred)\n",
        "print(\"Accuracy:\", accuracy)\n",
        "\n",
        "# Guardar modelo\n",
        "model_path = ARTIFACTS_DIR / \"model.pkl\"\n",
        "joblib.dump(model, model_path)\n",
        "print(\"Artefacto guardado en:\", model_path.resolve())\n",
        "\n",
        "# Crear manifest\n",
        "manifest = {\n",
        "    \"name\": \"iris_svm_model\",\n",
        "    \"created_at\": time.strftime(\"%Y-%m-%d %H:%M:%S\"),\n",
        "    \"framework\": \"scikit-learn\",\n",
        "    \"sklearn_version\": sklearn.__version__,\n",
        "    \"python_version\": platform.python_version(),\n",
        "    \"features\": list(X.columns),\n",
        "    \"target\": \"iris_target\",\n",
        "    \"test_accuracy\": float(accuracy)\n",
        "}\n",
        "\n",
        "# Guardar manifest\n",
        "manifest_path = ARTIFACTS_DIR / \"model_card.json\"\n",
        "with open(manifest_path, \"w\", encoding=\"utf-8\") as f:\n",
        "    json.dump(manifest, f, indent=2, ensure_ascii=False)\n",
        "\n",
        "print(\"Manifest guardado en:\", manifest_path.resolve())\n"
      ]
    },
    {
      "cell_type": "markdown",
      "source": [
        "Verifica que existan los archivos del modelo y del manifest; si faltan, lanza un error. Si existen, carga el modelo entrenado y la información del manifest para poder usarlos."
      ],
      "metadata": {
        "id": "JKhSDO0ywcsG"
      }
    },
    {
      "cell_type": "code",
      "source": [
        "if not model_path.exists() or not manifest_path.exists():\n",
        "    raise FileNotFoundError(\n",
        "        \"No se encontraron los artefactos requeridos. \"\n",
        "        \"Ejecuta primero el notebook '01 — Serialización del Modelo (Pipeline + Manifest)' \"\n",
        "        \"para generar 'artifacts/knn_pipeline.pkl' y 'artifacts/model_card.json'.\"\n",
        "    )\n",
        "\n",
        "loaded_model = joblib.load(model_path)\n",
        "with open(manifest_path, \"r\", encoding=\"utf-8\") as f:\n",
        "    manifest = json.load(f)\n",
        "\n",
        "print(\"Modelo cargado con éxito.\")\n",
        "manifest"
      ],
      "metadata": {
        "colab": {
          "base_uri": "https://localhost:8080/"
        },
        "id": "ET7xkl6HUIwv",
        "outputId": "11bbbad5-65f7-4466-9037-4661524b0cb4"
      },
      "execution_count": null,
      "outputs": [
        {
          "output_type": "stream",
          "name": "stdout",
          "text": [
            "Modelo cargado con éxito.\n"
          ]
        },
        {
          "output_type": "execute_result",
          "data": {
            "text/plain": [
              "{'name': 'iris_svm_model',\n",
              " 'created_at': '2025-09-29 09:04:12',\n",
              " 'framework': 'scikit-learn',\n",
              " 'sklearn_version': '1.6.1',\n",
              " 'python_version': '3.12.11',\n",
              " 'features': ['sepal length (cm)',\n",
              "  'sepal width (cm)',\n",
              "  'petal length (cm)',\n",
              "  'petal width (cm)'],\n",
              " 'target': 'iris_target',\n",
              " 'test_accuracy': 1.0}"
            ]
          },
          "metadata": {},
          "execution_count": 2
        }
      ]
    },
    {
      "cell_type": "code",
      "source": [
        "X.columns"
      ],
      "metadata": {
        "colab": {
          "base_uri": "https://localhost:8080/"
        },
        "id": "RYTWoUvk7UMa",
        "outputId": "784d2254-f7b5-435a-8b91-1a7458218079"
      },
      "execution_count": null,
      "outputs": [
        {
          "output_type": "execute_result",
          "data": {
            "text/plain": [
              "Index(['sepal length (cm)', 'sepal width (cm)', 'petal length (cm)',\n",
              "       'petal width (cm)'],\n",
              "      dtype='object')"
            ]
          },
          "metadata": {},
          "execution_count": 3
        }
      ]
    },
    {
      "cell_type": "markdown",
      "source": [
        "Verifica que el manifest contenga las claves obligatorias (features, target, sklearn_version) y avisa si alguna falta. Luego extrae las características, la variable objetivo y la versión de scikit-learn usada para entrenar. Finalmente, imprime esta información y alerta si la versión actual de scikit-learn es distinta a la usada en el entrenamiento."
      ],
      "metadata": {
        "id": "Zulejzwqwjb3"
      }
    },
    {
      "cell_type": "code",
      "source": [
        "required_manifest_keys = [\"features\", \"target\", \"sklearn_version\"]\n",
        "missing_keys = [k for k in required_manifest_keys if k not in manifest]\n",
        "if missing_keys:\n",
        "    print(\"ADVERTENCIA: el manifiesto no contiene las claves:\", missing_keys)\n",
        "\n",
        "declared_features = manifest.get(\"features\", [])\n",
        "declared_target = manifest.get(\"target\", None)\n",
        "trained_sklearn_version = manifest.get(\"sklearn_version\", None)\n",
        "\n",
        "print(\"Features declaradas:\", declared_features)\n",
        "print(\"Target declarado:\", declared_target)\n",
        "print(\"Versión sklearn entreno:\", trained_sklearn_version, \"| actual:\", sklearn.__version__)\n",
        "if trained_sklearn_version and sklearn.__version__ != trained_sklearn_version:\n",
        "    print(\"⚠️ ADVERTENCIA: La versión actual de scikit-learn difiere de la utilizada en el entrenamiento.\")"
      ],
      "metadata": {
        "colab": {
          "base_uri": "https://localhost:8080/"
        },
        "id": "H_Mp6xzcUpsm",
        "outputId": "d0dc2064-28a5-4e4a-d8e4-e87d0e15ce0a"
      },
      "execution_count": null,
      "outputs": [
        {
          "output_type": "stream",
          "name": "stdout",
          "text": [
            "Features declaradas: ['sepal length (cm)', 'sepal width (cm)', 'petal length (cm)', 'petal width (cm)']\n",
            "Target declarado: iris_target\n",
            "Versión sklearn entreno: 1.6.1 | actual: 1.6.1\n"
          ]
        }
      ]
    },
    {
      "cell_type": "markdown",
      "source": [
        "Estas funciones permiten validar los datos de entrada y realizar predicciones individuales o en lote usando el modelo SVM entrenado del Iris, incluyendo probabilidades si el modelo las soporta."
      ],
      "metadata": {
        "id": "X_JlnxHOwlxF"
      }
    },
    {
      "cell_type": "code",
      "source": [
        "from typing import Tuple\n",
        "import json, os, joblib, platform, sklearn\n",
        "import numpy as np, pandas as pd\n",
        "from pathlib import Path\n",
        "from typing import Iterable, Dict, Any, List, Optional\n",
        "\n",
        "# Columnas esperadas según manifiesto (fallback a dos columnas comunes)\n",
        "REQUIRED_COLUMNS = declared_features if declared_features else ['sepal length (cm)', 'sepal width (cm)', 'petal length (cm)','petal width (cm)']\n",
        "\n",
        "def validate_input(df_in: pd.DataFrame) -> pd.DataFrame:\n",
        "    \"\"\"Valida que df_in contenga las columnas requeridas y devuelve X en el orden correcto.\"\"\"\n",
        "    if not isinstance(df_in, pd.DataFrame):\n",
        "        raise TypeError(\"La entrada debe ser un pandas.DataFrame.\")\n",
        "    missing = [c for c in REQUIRED_COLUMNS if c not in df_in.columns]\n",
        "    if missing:\n",
        "        raise ValueError(f\"Faltan columnas requeridas: {missing}. Se esperaban: {REQUIRED_COLUMNS}\")\n",
        "    # devolvemos solo las columnas requeridas en el orden correcto\n",
        "    X = df_in[REQUIRED_COLUMNS].copy()\n",
        "    return X\n",
        "\n",
        "def predict_batch(df_in: pd.DataFrame, return_proba: bool = True):\n",
        "    X = validate_input(df_in)\n",
        "    yhat = loaded_model.predict(X)\n",
        "    proba = None\n",
        "    if return_proba and hasattr(loaded_model, \"predict_proba\"):\n",
        "        proba = loaded_model.predict_proba(X)  # matriz (n, n_classes)\n",
        "    return yhat, proba\n",
        "\n",
        "def predict_one(record: Dict[str, Any], return_proba: bool = True):\n",
        "    df_one = pd.DataFrame([record])\n",
        "    yhat, proba = predict_batch(df_one, return_proba=return_proba)\n",
        "    out = {\"input\": record, \"prediction\": int(yhat[0])}\n",
        "    if proba is not None:\n",
        "        probs = proba[0].tolist()\n",
        "        out[\"proba\"] = probs\n",
        "        out[\"p1\"] = float(probs[-1])  # probab"
      ],
      "metadata": {
        "id": "aJM9Cgsrpzd9"
      },
      "execution_count": null,
      "outputs": []
    },
    {
      "cell_type": "markdown",
      "source": [
        "Este bloque toma un lote de 4 flores, valida las columnas, predice su especie con el SVM entrenado y devuelve tanto las predicciones como las probabilidades asociadas a cada clase."
      ],
      "metadata": {
        "id": "uEhj9zTfw4yN"
      }
    },
    {
      "cell_type": "code",
      "source": [
        "ejemplo_batch = pd.DataFrame({\n",
        "    \"sepal length (cm)\": [5.1, 6.2, 4.7, 7.0],\n",
        "    \"sepal width (cm)\":  [3.5, 2.9, 3.2, 3.1],\n",
        "    \"petal length (cm)\": [1.4, 4.3, 1.3, 5.9],\n",
        "    \"petal width (cm)\":  [0.2, 1.3, 0.2, 2.1]\n",
        "})\n",
        "\n",
        "yhat, proba = predict_batch(ejemplo_batch, return_proba=True)\n",
        "print(\"Predicciones:\", yhat)\n",
        "print(\"Probabilidades:\", proba)\n",
        "\n"
      ],
      "metadata": {
        "colab": {
          "base_uri": "https://localhost:8080/"
        },
        "id": "sSlQAp0P0aKA",
        "outputId": "2e1c8017-d7cc-4ab4-db14-2d67a1aba3d2"
      },
      "execution_count": null,
      "outputs": [
        {
          "output_type": "stream",
          "name": "stdout",
          "text": [
            "Predicciones: [0 1 0 2]\n",
            "Probabilidades: [[0.97133834 0.01849568 0.01016598]\n",
            " [0.00992297 0.97096493 0.0191121 ]\n",
            " [0.97262617 0.01758478 0.00978905]\n",
            " [0.00936364 0.0042873  0.98634906]]\n"
          ]
        }
      ]
    },
    {
      "cell_type": "markdown",
      "source": [
        "Este bloque sirve para probar que la API Flask está activa antes de enviar predicciones u otras peticiones."
      ],
      "metadata": {
        "id": "6LwOzdL7xAVN"
      }
    },
    {
      "cell_type": "code",
      "source": [
        "import os, requests, json\n",
        "\n",
        "\n",
        "BASE = os.getenv(\"API_BASE\", \"http://127.0.0.1:5000\")\n",
        "API_KEY = os.getenv(\"API_KEY\")  # si definiste auth, se enviará\n",
        "\n",
        "headers = {\"Content-Type\": \"application/json\"}\n",
        "if API_KEY:\n",
        "    headers[\"X-API-KEY\"] = API_KEY\n",
        "\n",
        "# Health\n",
        "try:\n",
        "    print(\"GET /health ->\", requests.get(f\"{BASE}/health\", headers=headers, timeout=5).json())\n",
        "except Exception as e:\n",
        "    print(\"No se pudo conectar a la API (¿app.py corriendo?):\", e)"
      ],
      "metadata": {
        "id": "AUWLeVKgLx1M",
        "colab": {
          "base_uri": "https://localhost:8080/"
        },
        "outputId": "ff9dd2cc-1635-472c-d919-fbfbcd203d14"
      },
      "execution_count": null,
      "outputs": [
        {
          "output_type": "stream",
          "name": "stdout",
          "text": [
            "GET /health -> {'model_path': '/content/artifacts/model.pkl', 'ok': True, 'python': '3.12.11', 'sklearn_loaded': '1.6.1'}\n"
          ]
        }
      ]
    },
    {
      "cell_type": "code",
      "source": [],
      "metadata": {
        "id": "xnG6_ObnxKA8"
      },
      "execution_count": null,
      "outputs": []
    },
    {
      "cell_type": "code",
      "source": [
        "# Model info\n",
        "try:\n",
        "    print(\"GET /model-info ->\", requests.get(f\"{BASE}/model-info\", headers=headers, timeout=5).json())\n",
        "except Exception as e:\n",
        "    print(\"No se pudo conectar a la API:\", e)"
      ],
      "metadata": {
        "colab": {
          "base_uri": "https://localhost:8080/"
        },
        "id": "htkbmsXku_DO",
        "outputId": "fc4e6c23-0e70-41cf-f64a-34b8b69ebbe9"
      },
      "execution_count": null,
      "outputs": [
        {
          "output_type": "stream",
          "name": "stdout",
          "text": [
            "GET /model-info -> {'features': ['sepal length (cm)', 'sepal width (cm)', 'petal length (cm)', 'petal width (cm)'], 'name': 'iris_svm_model', 'sklearn_version_train': '1.6.1', 'target': 'iris_target'}\n"
          ]
        }
      ]
    },
    {
      "cell_type": "markdown",
      "source": [
        "Este bloque envía 4 flores a la API y recibe de vuelta las predicciones y probabilidades calculadas por el modelo SVM entrenado del Iris."
      ],
      "metadata": {
        "id": "kI9USPxUxJUF"
      }
    },
    {
      "cell_type": "code",
      "source": [
        "payload = [\n",
        "    {\"sepal length (cm)\": 5.1, \"sepal width (cm)\": 3.5, \"petal length (cm)\": 1.4, \"petal width (cm)\": 0.2},\n",
        "    {\"sepal length (cm)\": 6.2, \"sepal width (cm)\": 2.8, \"petal length (cm)\": 4.8, \"petal width (cm)\": 1.8},\n",
        "    {\"sepal length (cm)\": 7.0, \"sepal width (cm)\": 3.2, \"petal length (cm)\": 4.7, \"petal width (cm)\": 1.4},\n",
        "    {\"sepal length (cm)\": 5.9, \"sepal width (cm)\": 3.0, \"petal length (cm)\": 5.1, \"petal width (cm)\": 1.8},\n",
        "]\n",
        "\n",
        "try:\n",
        "    r = requests.post(f\"{BASE}/predict\", headers=headers, data=json.dumps(payload), timeout=5)\n",
        "    print(\"POST /predict ->\", r.json())\n",
        "except Exception as e:\n",
        "    print(\"No se pudo conectar a la API:\", e)\n"
      ],
      "metadata": {
        "colab": {
          "base_uri": "https://localhost:8080/"
        },
        "id": "qpPHYpY5vFhO",
        "outputId": "273928ab-35a8-4208-e796-90344114d01d"
      },
      "execution_count": null,
      "outputs": [
        {
          "output_type": "stream",
          "name": "stdout",
          "text": [
            "POST /predict -> {'ok': True, 'result': [{'p1': 0.010165982742031905, 'petal length (cm)': 1.4, 'petal width (cm)': 0.2, 'prediction': 0, 'sepal length (cm)': 5.1, 'sepal width (cm)': 3.5}, {'p1': 0.5788543571230381, 'petal length (cm)': 4.8, 'petal width (cm)': 1.8, 'prediction': 2, 'sepal length (cm)': 6.2, 'sepal width (cm)': 2.8}, {'p1': 0.07861622583133035, 'petal length (cm)': 4.7, 'petal width (cm)': 1.4, 'prediction': 1, 'sepal length (cm)': 7.0, 'sepal width (cm)': 3.2}, {'p1': 0.8468102827366086, 'petal length (cm)': 5.1, 'petal width (cm)': 1.8, 'prediction': 2, 'sepal length (cm)': 5.9, 'sepal width (cm)': 3.0}]}\n"
          ]
        }
      ]
    },
    {
      "cell_type": "code",
      "source": [],
      "metadata": {
        "id": "d5O36q3Dg7MT"
      },
      "execution_count": null,
      "outputs": []
    }
  ]
}